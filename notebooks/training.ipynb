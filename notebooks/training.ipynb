{
 "cells": [
  {
   "cell_type": "code",
   "execution_count": 3,
   "id": "3d159b55",
   "metadata": {},
   "outputs": [
    {
     "ename": "ModuleNotFoundError",
     "evalue": "No module named 'tensorflow'",
     "output_type": "error",
     "traceback": [
      "\u001b[31m---------------------------------------------------------------------------\u001b[39m",
      "\u001b[31mModuleNotFoundError\u001b[39m                       Traceback (most recent call last)",
      "\u001b[36mCell\u001b[39m\u001b[36m \u001b[39m\u001b[32mIn[3]\u001b[39m\u001b[32m, line 3\u001b[39m\n\u001b[32m      1\u001b[39m \u001b[38;5;28;01mimport\u001b[39;00m\u001b[38;5;250m \u001b[39m\u001b[34;01mpickle\u001b[39;00m\n\u001b[32m      2\u001b[39m \u001b[38;5;28;01mimport\u001b[39;00m\u001b[38;5;250m \u001b[39m\u001b[34;01mnumpy\u001b[39;00m\u001b[38;5;250m \u001b[39m\u001b[38;5;28;01mas\u001b[39;00m\u001b[38;5;250m \u001b[39m\u001b[34;01mnp\u001b[39;00m\n\u001b[32m----> \u001b[39m\u001b[32m3\u001b[39m \u001b[38;5;28;01mfrom\u001b[39;00m\u001b[38;5;250m \u001b[39m\u001b[34;01mtensorflow\u001b[39;00m\u001b[34;01m.\u001b[39;00m\u001b[34;01mkeras\u001b[39;00m\u001b[34;01m.\u001b[39;00m\u001b[34;01mcallbacks\u001b[39;00m\u001b[38;5;250m \u001b[39m\u001b[38;5;28;01mimport\u001b[39;00m ModelCheckpoint\n\u001b[32m      4\u001b[39m \u001b[38;5;28;01mfrom\u001b[39;00m\u001b[38;5;250m \u001b[39m\u001b[34;01msrc\u001b[39;00m\u001b[34;01m.\u001b[39;00m\u001b[34;01mmodel\u001b[39;00m\u001b[38;5;250m \u001b[39m\u001b[38;5;28;01mimport\u001b[39;00m build_model\n\u001b[32m      5\u001b[39m \u001b[38;5;28;01mfrom\u001b[39;00m\u001b[38;5;250m \u001b[39m\u001b[34;01msrc\u001b[39;00m\u001b[34;01m.\u001b[39;00m\u001b[34;01mdata_generator\u001b[39;00m\u001b[38;5;250m \u001b[39m\u001b[38;5;28;01mimport\u001b[39;00m ImageCaptionDataGenerator\n",
      "\u001b[31mModuleNotFoundError\u001b[39m: No module named 'tensorflow'"
     ]
    }
   ],
   "source": [
    "import pickle\n",
    "import numpy as np\n",
    "from tensorflow.keras.callbacks import ModelCheckpoint\n",
    "from src.model import build_model\n",
    "from src.data_generator import ImageCaptionDataGenerator\n"
   ]
  },
  {
   "cell_type": "code",
   "execution_count": null,
   "id": "2266cf00",
   "metadata": {},
   "outputs": [],
   "source": [
    "# Load tokenizer\n",
    "with open(\"artifacts/tokenizer.pkl\", \"rb\") as f:\n",
    "    tokenizer = pickle.load(f)\n",
    "\n",
    "# Load image features\n",
    "with open(\"artifacts/image_features.pkl\", \"rb\") as f:\n",
    "    image_features = pickle.load(f)\n",
    "\n",
    "# Load train captions\n",
    "with open(\"artifacts/train_captions.pkl\", \"rb\") as f:\n",
    "    train_captions = pickle.load(f)\n",
    "\n",
    "# Load max_length\n",
    "with open(\"artifacts/max_length.pkl\", \"rb\") as f:\n",
    "    max_len = pickle.load(f)\n",
    "\n",
    "# Vocab size\n",
    "vocab_size = len(tokenizer.word_index) + 1\n"
   ]
  },
  {
   "cell_type": "code",
   "execution_count": null,
   "id": "60ecce5e",
   "metadata": {},
   "outputs": [],
   "source": [
    "# Build model\n",
    "model = build_model(vocab_size, max_len)\n",
    "\n",
    "# Create generator\n",
    "train_generator = ImageCaptionDataGenerator(\n",
    "    image_features=image_features,\n",
    "    captions_dict=train_captions,\n",
    "    tokenizer=tokenizer,\n",
    "    max_length=max_len,\n",
    "    vocab_size=vocab_size,\n",
    "    batch_size=32\n",
    ")\n"
   ]
  },
  {
   "cell_type": "code",
   "execution_count": null,
   "id": "98dfd85c",
   "metadata": {},
   "outputs": [],
   "source": [
    "# Checkpoint to save the best model\n",
    "checkpoint = ModelCheckpoint(\"artifacts/best_model.h5\", monitor=\"loss\", save_best_only=True)\n",
    "\n",
    "# Train model\n",
    "model.fit(\n",
    "    train_generator,\n",
    "    epochs=20,\n",
    "    callbacks=[checkpoint]\n",
    ")\n",
    "\n",
    "# Optional: Save final model (in addition to best_model)\n",
    "model.save(\"artifacts/final_model.h5\")\n"
   ]
  },
  {
   "cell_type": "code",
   "execution_count": null,
   "id": "79f5c173",
   "metadata": {},
   "outputs": [],
   "source": [
    "if __name__ == \"__main__\":\n",
    "    import pickle\n",
    "    from tensorflow.keras.models import load_model\n",
    "\n",
    "    # بارگذاری مدل و tokenizer و max_length\n",
    "    model = load_model(\"artifacts/best_model.h5\")\n",
    "\n",
    "    with open(\"artifacts/tokenizer.pkl\", \"rb\") as f:\n",
    "        tokenizer = pickle.load(f)\n",
    "\n",
    "    with open(\"artifacts/max_length.pkl\", \"rb\") as f:\n",
    "        max_length = pickle.load(f)\n",
    "\n",
    "    # استخراج ویژگی عکس جدید\n",
    "    img_path = \"path_to_your_image.jpg\"\n",
    "    feature = extract_features(img_path)\n",
    "\n",
    "    # تولید کپشن\n",
    "    caption = predict_caption(model, feature, tokenizer, max_length)\n",
    "    print(\"Generated Caption:\", caption)\n"
   ]
  },
  {
   "cell_type": "code",
   "execution_count": 1,
   "id": "f98f6508",
   "metadata": {},
   "outputs": [
    {
     "ename": "ModuleNotFoundError",
     "evalue": "No module named 'src'",
     "output_type": "error",
     "traceback": [
      "\u001b[31m---------------------------------------------------------------------------\u001b[39m",
      "\u001b[31mModuleNotFoundError\u001b[39m                       Traceback (most recent call last)",
      "\u001b[36mCell\u001b[39m\u001b[36m \u001b[39m\u001b[32mIn[1]\u001b[39m\u001b[32m, line 1\u001b[39m\n\u001b[32m----> \u001b[39m\u001b[32m1\u001b[39m \u001b[38;5;28;01mfrom\u001b[39;00m\u001b[38;5;250m \u001b[39m\u001b[34;01msrc\u001b[39;00m\u001b[34;01m.\u001b[39;00m\u001b[34;01mfeatures_extraction\u001b[39;00m\u001b[38;5;250m \u001b[39m\u001b[38;5;28;01mimport\u001b[39;00m build_model, extract_features, save_features\n\u001b[32m      3\u001b[39m model = build_model()\n\u001b[32m      4\u001b[39m directory = \u001b[33m'\u001b[39m\u001b[33mFlicker8k_Dataset\u001b[39m\u001b[33m'\u001b[39m\n",
      "\u001b[31mModuleNotFoundError\u001b[39m: No module named 'src'"
     ]
    }
   ],
   "source": [
    "from src.features_extraction import build_model, extract_features, save_features\n",
    "\n",
    "model = build_model()\n",
    "directory = 'Flicker8k_Dataset'\n",
    "features = extract_features(directory, model)\n",
    "save_features(features, 'features.pkl')\n"
   ]
  },
  {
   "cell_type": "code",
   "execution_count": 2,
   "id": "c10e305e",
   "metadata": {},
   "outputs": [
    {
     "ename": "ModuleNotFoundError",
     "evalue": "No module named 'src'",
     "output_type": "error",
     "traceback": [
      "\u001b[31m---------------------------------------------------------------------------\u001b[39m",
      "\u001b[31mModuleNotFoundError\u001b[39m                       Traceback (most recent call last)",
      "\u001b[36mCell\u001b[39m\u001b[36m \u001b[39m\u001b[32mIn[2]\u001b[39m\u001b[32m, line 1\u001b[39m\n\u001b[32m----> \u001b[39m\u001b[32m1\u001b[39m \u001b[38;5;28;01mfrom\u001b[39;00m\u001b[38;5;250m \u001b[39m\u001b[34;01msrc\u001b[39;00m\u001b[34;01m.\u001b[39;00m\u001b[34;01mcaption_preprocessing\u001b[39;00m\u001b[38;5;250m \u001b[39m\u001b[38;5;28;01mimport\u001b[39;00m load_captions_file, create_mapping, clean_captions, get_all_captions\n\u001b[32m      3\u001b[39m captions_doc = load_captions_file(\u001b[33m'\u001b[39m\u001b[33mcaptions.txt\u001b[39m\u001b[33m'\u001b[39m)\n\u001b[32m      4\u001b[39m mapping = create_mapping(captions_doc)\n",
      "\u001b[31mModuleNotFoundError\u001b[39m: No module named 'src'"
     ]
    }
   ],
   "source": [
    "from src.caption_preprocessing import load_captions_file, create_mapping, clean_captions, get_all_captions\n",
    "\n",
    "captions_doc = load_captions_file('captions.txt')\n",
    "mapping = create_mapping(captions_doc)\n",
    "mapping = clean_captions(mapping)\n",
    "all_captions = get_all_captions(mapping)\n"
   ]
  },
  {
   "cell_type": "code",
   "execution_count": null,
   "id": "cae4d64f",
   "metadata": {},
   "outputs": [],
   "source": [
    "from src.text_processing import create_tokenizer, get_max_length, load_glove_embeddings, build_embedding_matrix\n",
    "\n",
    "# فرض بر اینه که all_captions رو مرحله قبل داری\n",
    "tokenizer, vocab_size = create_tokenizer(all_captions)\n",
    "max_length = get_max_length(all_captions)\n",
    "\n",
    "# فرض بر اینه که glove path مشخص شده\n",
    "glove_path = '/kaggle/input/glove6b100d.txt/glove.6B.100d.txt'\n",
    "embedding_dim = 100\n",
    "\n",
    "embeddings_index = load_glove_embeddings(glove_path, embedding_dim)\n",
    "embedding_matrix = build_embedding_matrix(tokenizer, embeddings_index, vocab_size, embedding_dim)\n"
   ]
  },
  {
   "cell_type": "code",
   "execution_count": null,
   "id": "e96d9352",
   "metadata": {},
   "outputs": [],
   "source": [
    "from src.feature_extractor import build_feature_extractor, extract_features, save_features\n",
    "\n",
    "image_dir = '/kaggle/input/flickr8k/images'  # مسیر عکس‌ها\n",
    "image_list = list(train_df['image'])  # یا هر لیستی از ID عکس‌ها که نیاز داری\n",
    "\n",
    "model = build_feature_extractor()\n",
    "features = extract_features(image_dir, image_list, model)\n",
    "save_features(features, 'features.pkl')\n"
   ]
  },
  {
   "cell_type": "code",
   "execution_count": null,
   "id": "167e167f",
   "metadata": {},
   "outputs": [],
   "source": [
    "from src.caption_model import build_caption_model\n",
    "\n",
    "model = build_caption_model(vocab_size=len(tokenizer.word_index)+1, max_length=max_len)\n",
    "model.compile(loss='categorical_crossentropy', optimizer='adam')\n",
    "model.summary()\n"
   ]
  },
  {
   "cell_type": "code",
   "execution_count": null,
   "id": "d28af339",
   "metadata": {},
   "outputs": [],
   "source": [
    "from src.data_generator import ImageCaptionDataGenerator\n",
    "\n",
    "train_generator = ImageCaptionDataGenerator(\n",
    "    image_features=train_features,\n",
    "    captions_dict=train_captions,\n",
    "    tokenizer=tokenizer,\n",
    "    max_length=max_len,\n",
    "    vocab_size=len(tokenizer.word_index) + 1,\n",
    "    batch_size=32\n",
    ")\n",
    "\n",
    "model.fit(train_generator, epochs=20)\n"
   ]
  }
 ],
 "metadata": {
  "kernelspec": {
   "display_name": "Python 3",
   "language": "python",
   "name": "python3"
  },
  "language_info": {
   "codemirror_mode": {
    "name": "ipython",
    "version": 3
   },
   "file_extension": ".py",
   "mimetype": "text/x-python",
   "name": "python",
   "nbconvert_exporter": "python",
   "pygments_lexer": "ipython3",
   "version": "3.13.3"
  }
 },
 "nbformat": 4,
 "nbformat_minor": 5
}
